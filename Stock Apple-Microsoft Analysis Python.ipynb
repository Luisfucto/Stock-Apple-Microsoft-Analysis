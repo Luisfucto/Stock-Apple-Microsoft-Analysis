{
 "cells": [
  {
   "cell_type": "markdown",
   "metadata": {},
   "source": [
    "## Lab 12 Task - Solution"
   ]
  },
  {
   "cell_type": "code",
   "execution_count": 1,
   "metadata": {},
   "outputs": [],
   "source": [
    "import pandas as pd\n",
    "import matplotlib\n",
    "import matplotlib.pylab as plt\n",
    "%matplotlib inline "
   ]
  },
  {
   "cell_type": "markdown",
   "metadata": {},
   "source": [
    "Step 1. \n",
    "Load the stock price CSV files for both Apple and Microsoft into separate Pandas DataFrames."
   ]
  },
  {
   "cell_type": "code",
   "execution_count": 2,
   "metadata": {},
   "outputs": [
    {
     "data": {
      "text/html": [
       "<div>\n",
       "<style>\n",
       "    .dataframe thead tr:only-child th {\n",
       "        text-align: right;\n",
       "    }\n",
       "\n",
       "    .dataframe thead th {\n",
       "        text-align: left;\n",
       "    }\n",
       "\n",
       "    .dataframe tbody tr th {\n",
       "        vertical-align: top;\n",
       "    }\n",
       "</style>\n",
       "<table border=\"1\" class=\"dataframe\">\n",
       "  <thead>\n",
       "    <tr style=\"text-align: right;\">\n",
       "      <th></th>\n",
       "      <th>close</th>\n",
       "      <th>volume</th>\n",
       "      <th>open</th>\n",
       "      <th>high</th>\n",
       "      <th>low</th>\n",
       "    </tr>\n",
       "    <tr>\n",
       "      <th>date</th>\n",
       "      <th></th>\n",
       "      <th></th>\n",
       "      <th></th>\n",
       "      <th></th>\n",
       "      <th></th>\n",
       "    </tr>\n",
       "  </thead>\n",
       "  <tbody>\n",
       "    <tr>\n",
       "      <th>2017-04-24</th>\n",
       "      <td>143.64</td>\n",
       "      <td>17117710.0</td>\n",
       "      <td>143.50</td>\n",
       "      <td>143.95</td>\n",
       "      <td>143.18</td>\n",
       "    </tr>\n",
       "    <tr>\n",
       "      <th>2017-04-21</th>\n",
       "      <td>142.27</td>\n",
       "      <td>17290900.0</td>\n",
       "      <td>142.44</td>\n",
       "      <td>142.68</td>\n",
       "      <td>141.85</td>\n",
       "    </tr>\n",
       "    <tr>\n",
       "      <th>2017-04-20</th>\n",
       "      <td>142.44</td>\n",
       "      <td>23294040.0</td>\n",
       "      <td>141.22</td>\n",
       "      <td>142.92</td>\n",
       "      <td>141.16</td>\n",
       "    </tr>\n",
       "    <tr>\n",
       "      <th>2017-04-19</th>\n",
       "      <td>140.68</td>\n",
       "      <td>17302160.0</td>\n",
       "      <td>141.88</td>\n",
       "      <td>142.00</td>\n",
       "      <td>140.45</td>\n",
       "    </tr>\n",
       "    <tr>\n",
       "      <th>2017-04-18</th>\n",
       "      <td>141.20</td>\n",
       "      <td>14676420.0</td>\n",
       "      <td>141.41</td>\n",
       "      <td>142.04</td>\n",
       "      <td>141.11</td>\n",
       "    </tr>\n",
       "  </tbody>\n",
       "</table>\n",
       "</div>"
      ],
      "text/plain": [
       "             close      volume    open    high     low\n",
       "date                                                  \n",
       "2017-04-24  143.64  17117710.0  143.50  143.95  143.18\n",
       "2017-04-21  142.27  17290900.0  142.44  142.68  141.85\n",
       "2017-04-20  142.44  23294040.0  141.22  142.92  141.16\n",
       "2017-04-19  140.68  17302160.0  141.88  142.00  140.45\n",
       "2017-04-18  141.20  14676420.0  141.41  142.04  141.11"
      ]
     },
     "execution_count": 2,
     "metadata": {},
     "output_type": "execute_result"
    }
   ],
   "source": [
    "df_apple = pd.read_csv(\"stock-apple.csv\",index_col=\"date\",parse_dates=True)\n",
    "df_apple.head()"
   ]
  },
  {
   "cell_type": "code",
   "execution_count": 3,
   "metadata": {},
   "outputs": [
    {
     "data": {
      "text/html": [
       "<div>\n",
       "<style>\n",
       "    .dataframe thead tr:only-child th {\n",
       "        text-align: right;\n",
       "    }\n",
       "\n",
       "    .dataframe thead th {\n",
       "        text-align: left;\n",
       "    }\n",
       "\n",
       "    .dataframe tbody tr th {\n",
       "        vertical-align: top;\n",
       "    }\n",
       "</style>\n",
       "<table border=\"1\" class=\"dataframe\">\n",
       "  <thead>\n",
       "    <tr style=\"text-align: right;\">\n",
       "      <th></th>\n",
       "      <th>close</th>\n",
       "      <th>volume</th>\n",
       "      <th>open</th>\n",
       "      <th>high</th>\n",
       "      <th>low</th>\n",
       "    </tr>\n",
       "    <tr>\n",
       "      <th>date</th>\n",
       "      <th></th>\n",
       "      <th></th>\n",
       "      <th></th>\n",
       "      <th></th>\n",
       "      <th></th>\n",
       "    </tr>\n",
       "  </thead>\n",
       "  <tbody>\n",
       "    <tr>\n",
       "      <th>2017-04-24</th>\n",
       "      <td>67.53</td>\n",
       "      <td>29721350.0</td>\n",
       "      <td>67.48</td>\n",
       "      <td>67.66</td>\n",
       "      <td>67.10</td>\n",
       "    </tr>\n",
       "    <tr>\n",
       "      <th>2017-04-21</th>\n",
       "      <td>66.40</td>\n",
       "      <td>32507090.0</td>\n",
       "      <td>65.67</td>\n",
       "      <td>66.70</td>\n",
       "      <td>65.45</td>\n",
       "    </tr>\n",
       "    <tr>\n",
       "      <th>2017-04-20</th>\n",
       "      <td>65.50</td>\n",
       "      <td>22298340.0</td>\n",
       "      <td>65.46</td>\n",
       "      <td>65.75</td>\n",
       "      <td>65.14</td>\n",
       "    </tr>\n",
       "    <tr>\n",
       "      <th>2017-04-19</th>\n",
       "      <td>65.04</td>\n",
       "      <td>26983430.0</td>\n",
       "      <td>65.65</td>\n",
       "      <td>65.75</td>\n",
       "      <td>64.89</td>\n",
       "    </tr>\n",
       "    <tr>\n",
       "      <th>2017-04-18</th>\n",
       "      <td>65.39</td>\n",
       "      <td>15145300.0</td>\n",
       "      <td>65.33</td>\n",
       "      <td>65.71</td>\n",
       "      <td>65.16</td>\n",
       "    </tr>\n",
       "  </tbody>\n",
       "</table>\n",
       "</div>"
      ],
      "text/plain": [
       "            close      volume   open   high    low\n",
       "date                                              \n",
       "2017-04-24  67.53  29721350.0  67.48  67.66  67.10\n",
       "2017-04-21  66.40  32507090.0  65.67  66.70  65.45\n",
       "2017-04-20  65.50  22298340.0  65.46  65.75  65.14\n",
       "2017-04-19  65.04  26983430.0  65.65  65.75  64.89\n",
       "2017-04-18  65.39  15145300.0  65.33  65.71  65.16"
      ]
     },
     "execution_count": 3,
     "metadata": {},
     "output_type": "execute_result"
    }
   ],
   "source": [
    "df_ms = pd.read_csv(\"stock-microsoft.csv\",index_col=\"date\",parse_dates=True)\n",
    "df_ms.head()"
   ]
  },
  {
   "cell_type": "markdown",
   "metadata": {},
   "source": [
    "Step 2. For each of the DataFrames, extract only the **close** stock prices for the year 2016. This should give you two new Pandas Series objects."
   ]
  },
  {
   "cell_type": "code",
   "execution_count": 4,
   "metadata": {},
   "outputs": [
    {
     "data": {
      "text/plain": [
       "date\n",
       "2016-12-30    115.82\n",
       "2016-12-29    116.73\n",
       "2016-12-28    116.76\n",
       "2016-12-27    117.26\n",
       "2016-12-23    116.52\n",
       "Name: close, dtype: float64"
      ]
     },
     "execution_count": 4,
     "metadata": {},
     "output_type": "execute_result"
    }
   ],
   "source": [
    "df_apple_closing = df_apple[\"close\"][\"2016\"]\n",
    "df_apple_closing.head()"
   ]
  },
  {
   "cell_type": "code",
   "execution_count": 5,
   "metadata": {},
   "outputs": [
    {
     "data": {
      "text/plain": [
       "date\n",
       "2016-12-30    62.14\n",
       "2016-12-29    62.90\n",
       "2016-12-28    62.99\n",
       "2016-12-27    63.28\n",
       "2016-12-23    63.24\n",
       "Name: close, dtype: float64"
      ]
     },
     "execution_count": 5,
     "metadata": {},
     "output_type": "execute_result"
    }
   ],
   "source": [
    "df_ms_closing = df_ms[\"close\"][\"2016\"]\n",
    "df_ms_closing.head()"
   ]
  },
  {
   "cell_type": "markdown",
   "metadata": {},
   "source": [
    "Step 3. Create a new time series DataFrame with two columns, one for the Apple 2016 closing prices and one for the Microsoft 2016 closing prices."
   ]
  },
  {
   "cell_type": "code",
   "execution_count": 6,
   "metadata": {},
   "outputs": [
    {
     "data": {
      "text/html": [
       "<div>\n",
       "<style>\n",
       "    .dataframe thead tr:only-child th {\n",
       "        text-align: right;\n",
       "    }\n",
       "\n",
       "    .dataframe thead th {\n",
       "        text-align: left;\n",
       "    }\n",
       "\n",
       "    .dataframe tbody tr th {\n",
       "        vertical-align: top;\n",
       "    }\n",
       "</style>\n",
       "<table border=\"1\" class=\"dataframe\">\n",
       "  <thead>\n",
       "    <tr style=\"text-align: right;\">\n",
       "      <th></th>\n",
       "      <th>Apple</th>\n",
       "      <th>Microsoft</th>\n",
       "    </tr>\n",
       "    <tr>\n",
       "      <th>date</th>\n",
       "      <th></th>\n",
       "      <th></th>\n",
       "    </tr>\n",
       "  </thead>\n",
       "  <tbody>\n",
       "    <tr>\n",
       "      <th>2016-12-30</th>\n",
       "      <td>115.82</td>\n",
       "      <td>62.14</td>\n",
       "    </tr>\n",
       "    <tr>\n",
       "      <th>2016-12-29</th>\n",
       "      <td>116.73</td>\n",
       "      <td>62.90</td>\n",
       "    </tr>\n",
       "    <tr>\n",
       "      <th>2016-12-28</th>\n",
       "      <td>116.76</td>\n",
       "      <td>62.99</td>\n",
       "    </tr>\n",
       "    <tr>\n",
       "      <th>2016-12-27</th>\n",
       "      <td>117.26</td>\n",
       "      <td>63.28</td>\n",
       "    </tr>\n",
       "    <tr>\n",
       "      <th>2016-12-23</th>\n",
       "      <td>116.52</td>\n",
       "      <td>63.24</td>\n",
       "    </tr>\n",
       "  </tbody>\n",
       "</table>\n",
       "</div>"
      ],
      "text/plain": [
       "             Apple  Microsoft\n",
       "date                         \n",
       "2016-12-30  115.82      62.14\n",
       "2016-12-29  116.73      62.90\n",
       "2016-12-28  116.76      62.99\n",
       "2016-12-27  117.26      63.28\n",
       "2016-12-23  116.52      63.24"
      ]
     },
     "execution_count": 6,
     "metadata": {},
     "output_type": "execute_result"
    }
   ],
   "source": [
    "# stack the two Series vertically as columns\n",
    "df_combined = pd.concat( [df_apple_closing,df_ms_closing], axis=1 )\n",
    "# rename the column names\n",
    "df_combined.columns = [\"Apple\",\"Microsoft\"]\n",
    "df_combined.head()"
   ]
  },
  {
   "cell_type": "markdown",
   "metadata": {},
   "source": [
    "Step 4: Plot the 2016 closing prices for Apple and Microsoft, using a 7-day rolling mean."
   ]
  },
  {
   "cell_type": "code",
   "execution_count": 7,
   "metadata": {},
   "outputs": [
    {
     "data": {
      "image/png": "[encoded data removed]",
      "text/plain": [
       "<matplotlib.figure.Figure at 0x113d70550>"
      ]
     },
     "metadata": {},
     "output_type": "display_data"
    }
   ],
   "source": [
    "# apply the rolling mean\n",
    "rm = df_combined.rolling(7).mean()\n",
    "# create the plot\n",
    "p = rm.plot(figsize=(12, 6), fontsize=13)\n",
    "plt.ylabel('Closing Stock Price (7 day)')\n",
    "plt.ylim([0,150]);"
   ]
  },
  {
   "cell_type": "markdown",
   "metadata": {},
   "source": [
    "Step 5. Resample the new DataFrame to monthly time windows, and plot the new monthly time series."
   ]
  },
  {
   "cell_type": "code",
   "execution_count": 8,
   "metadata": {
    "collapsed": true
   },
   "outputs": [],
   "source": [
    "# Convert from day frequency to month (M) frequency, by averaging values\n",
    "df_monthly = df_combined.resample(\"M\").mean()"
   ]
  },
  {
   "cell_type": "code",
   "execution_count": 9,
   "metadata": {},
   "outputs": [
    {
     "data": {
      "image/png": "[encoded data removed]",
      "text/plain": [
       "<matplotlib.figure.Figure at 0x10e4f3cf8>"
      ]
     },
     "metadata": {},
     "output_type": "display_data"
    }
   ],
   "source": [
    "# create the plot\n",
    "p = df_monthly.plot(figsize=(12, 6), fontsize=13)\n",
    "plt.ylabel('Closing Stock Price')\n",
    "plt.ylim([0,150])\n",
    "plt.xlabel(\"Month\");"
   ]
  }
 ],
 "metadata": {
  "kernelspec": {
   "display_name": "Python 3",
   "language": "python",
   "name": "python3"
  },
  "language_info": {
   "codemirror_mode": {
    "name": "ipython",
    "version": 3
   },
   "file_extension": ".py",
   "mimetype": "text/x-python",
   "name": "python",
   "nbconvert_exporter": "python",
   "pygments_lexer": "ipython3",
   "version": "3.6.3"
  }
 },
 "nbformat": 4,
 "nbformat_minor": 1
}
